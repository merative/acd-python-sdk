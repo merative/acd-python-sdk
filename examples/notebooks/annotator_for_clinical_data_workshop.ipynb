{
 "cells": [
  {
   "cell_type": "markdown",
   "metadata": {},
   "source": [
    "# IBM Watson Annotator for Clinical Data Python SDK Example\n",
    "\n",
    "### Intro\n",
    "This is a short ACD sample application that demonstrates how to create a client to communicate with ACD, invoke ACD to analyze some text using a persisted flow, and retrieve annotation fields from the response.  In this example, the client config parameters are stored in a separate file called `config.ini` and Python's configparser is used to parse the file.  The format of `config.ini` is:\n",
    "\n",
    "```\n",
    "[settings]\n",
    "base_url = your ACD service instance URL, e.g. https://us-south.wh-acd.cloud.ibm.com/wh-acd/api\n",
    "key = API Key of your ACD service instance\n",
    "version = ACD REST API version date, e.g. 2021-04-15\n",
    "flow = wh_acd.ibm_clinical_insights_v1.0_standard_flow\n",
    "```\n",
    "\n",
    "### Install SDK"
   ]
  },
  {
   "cell_type": "code",
   "execution_count": 1,
   "metadata": {
    "scrolled": false
   },
   "outputs": [
    {
     "name": "stdout",
     "output_type": "stream",
     "text": [
      "Requirement already satisfied: ibm-whcs-sdk in /Users/dangst/Downloads/anaconda3/lib/python3.8/site-packages (1.10.4)\n",
      "Requirement already satisfied: python-dateutil<3.0.0,>=2.5.3 in /Users/dangst/Downloads/anaconda3/lib/python3.8/site-packages (from ibm-whcs-sdk) (2.8.1)\n",
      "Requirement already satisfied: ibm-cloud-sdk-core==2.0.5 in /Users/dangst/Downloads/anaconda3/lib/python3.8/site-packages (from ibm-whcs-sdk) (2.0.5)\n",
      "Requirement already satisfied: PyJWT==1.7.1 in /Users/dangst/Downloads/anaconda3/lib/python3.8/site-packages (from ibm-whcs-sdk) (1.7.1)\n",
      "Requirement already satisfied: requests<3.0,>=2.20 in /Users/dangst/Downloads/anaconda3/lib/python3.8/site-packages (from ibm-whcs-sdk) (2.25.1)\n",
      "Requirement already satisfied: six>=1.5 in /Users/dangst/Downloads/anaconda3/lib/python3.8/site-packages (from python-dateutil<3.0.0,>=2.5.3->ibm-whcs-sdk) (1.15.0)\n",
      "Requirement already satisfied: certifi>=2017.4.17 in /Users/dangst/Downloads/anaconda3/lib/python3.8/site-packages (from requests<3.0,>=2.20->ibm-whcs-sdk) (2020.12.5)\n",
      "Requirement already satisfied: chardet<5,>=3.0.2 in /Users/dangst/Downloads/anaconda3/lib/python3.8/site-packages (from requests<3.0,>=2.20->ibm-whcs-sdk) (4.0.0)\n",
      "Requirement already satisfied: idna<3,>=2.5 in /Users/dangst/Downloads/anaconda3/lib/python3.8/site-packages (from requests<3.0,>=2.20->ibm-whcs-sdk) (2.10)\n",
      "Requirement already satisfied: urllib3<1.27,>=1.21.1 in /Users/dangst/Downloads/anaconda3/lib/python3.8/site-packages (from requests<3.0,>=2.20->ibm-whcs-sdk) (1.26.4)\n"
     ]
    }
   ],
   "source": [
    "!pip install ibm-whcs-sdk"
   ]
  },
  {
   "cell_type": "markdown",
   "metadata": {},
   "source": [
    "### Client Setup"
   ]
  },
  {
   "cell_type": "code",
   "execution_count": 2,
   "metadata": {
    "scrolled": false
   },
   "outputs": [
    {
     "name": "stdout",
     "output_type": "stream",
     "text": [
      "ACD Client is Ready!\n"
     ]
    }
   ],
   "source": [
    "# A simple example to demonstrate how the SDK could be used.\n",
    "\n",
    "from ibm_cloud_sdk_core.authenticators.iam_authenticator import IAMAuthenticator\n",
    "import ibm_whcs_sdk.annotator_for_clinical_data as wh\n",
    "import configparser\n",
    "\n",
    "CONFIG = configparser.RawConfigParser()\n",
    "CONFIG.read('config.ini')\n",
    "\n",
    "APIKEY = CONFIG.get('settings', 'key')\n",
    "VERSION = CONFIG.get('settings', 'version')\n",
    "URL = CONFIG.get('settings', 'base_url')\n",
    "FLOW = CONFIG.get('settings', 'flow')\n",
    "\n",
    "acd = wh.AnnotatorForClinicalDataV1(authenticator=IAMAuthenticator(apikey=APIKEY),\n",
    "                                    version=VERSION)\n",
    "acd.set_service_url(URL)\n",
    "print(\"ACD Client is Ready!\")"
   ]
  },
  {
   "cell_type": "markdown",
   "metadata": {},
   "source": [
    "### Invoke ACD's Analyze_with_flow API then parse the response"
   ]
  },
  {
   "cell_type": "code",
   "execution_count": 9,
   "metadata": {},
   "outputs": [
    {
     "name": "stdout",
     "output_type": "stream",
     "text": [
      "-------------------------------------------------\n",
      "Text\n",
      "Patient has lung cancer, but did not smoke. CT scan shows tumor in left lung. She may consider chemotherapy as part of a treatment plan.\n",
      "-------------------------------------------------\n",
      "Patient Procedures\n",
      ".. c.a.t. scan nos\n",
      "    Notes:\n",
      "    - Completed (confidence score 0.976 )\n",
      "    - Other procedure (confidence score 1.0 )\n",
      "    ** Abnormal (confidence score 0.994 )\n",
      "         Evidence:  shows tumor in left lung\n",
      "\n",
      ".. chemotherapy\n",
      "    Notes:\n",
      "    - Discussed/Other (confidence score 0.944 )\n",
      "    - Medication (confidence score 1.0 )\n",
      "\n",
      "-------------------------------------------------\n",
      "Patient Symptoms and Diseases\n",
      ".. primary malignant neoplasm of lung ( lung cancer )\n",
      "    Notes:\n",
      "      - SNOMED 93880001\n",
      "      - ICD10 C34.90,C34.9\n",
      "      - ICD9 162.9\n",
      "    - Applies to patient (confidence score 0.999 )\n",
      "\n",
      ".. neoplasm ( tumor )\n",
      "    Notes:\n",
      "      - SNOMED 108369006\n",
      "\n"
     ]
    }
   ],
   "source": [
    "TEXT = \"Patient has lung cancer, but did not smoke. CT scan shows tumor in left lung. She may consider chemotherapy as part of a treatment plan.\"\n",
    "try:\n",
    "    result = acd.analyze_with_flow(FLOW, TEXT)\n",
    "    \n",
    "    print(\"-------------------------------------------------\")\n",
    "    print(\"Text:\")\n",
    "    print(TEXT)\n",
    "    print(\"-------------------------------------------------\")\n",
    "    print(\"Patient Procedures\")\n",
    "    if result.procedure_ind is not None:\n",
    "        for item in result.procedure_ind:\n",
    "            print(\"..\",item.procedure_normalized_name)\n",
    "            print(\"    Notes:\")\n",
    "            if item.insight_model_data.procedure is not None:\n",
    "                proc = item.insight_model_data.procedure\n",
    "                if proc.usage is not None:\n",
    "                    if proc.usage.explicit_score > 0.7:\n",
    "                        print(\"    - Completed (confidence score\", proc.usage.explicit_score, \")\")\n",
    "                    elif proc.usage.pending_score > 0.7:\n",
    "                        print(\"    - Scheduled/Recommended (confidence score\", proc.usage.pending_score, \")\")\n",
    "                    elif proc.usage.discussed_score > 0.7:\n",
    "                        print(\"    - Discussed/Other (confidence score\", proc.usage.discussed_score, \")\")\n",
    "                if proc.type is not None:\n",
    "                    if proc.type.device_score > 0.7:\n",
    "                        print(\"    - Implanted device (confidence score\", proc.type.device_score, \")\")\n",
    "                    elif proc.type.material_score > 0.7:\n",
    "                        print(\"    - Material or graft (confidence score\", proc.type.material_score, \")\")\n",
    "                    elif proc.type.medication_score > 0.7:\n",
    "                        print(\"    - Medication (confidence score\", proc.type.medication_score, \")\")\n",
    "                    elif proc.type.condition_management_score > 0.7:\n",
    "                        print(\"    - Long term condition (confidence score\", proc.type.condition_management_score, \")\")\n",
    "                    elif proc.type.procedure_score > 0.7:\n",
    "                        print(\"    - Other procedure (confidence score\", proc.type.procedure_score, \")\")\n",
    "            if item.insight_model_data.normality is not None:\n",
    "                norm = item.insight_model_data.normality\n",
    "                if norm.usage is not None:\n",
    "                    if norm.usage.normal_score > 0.7:\n",
    "                        print(\"    -- Normal (confidence score\", norm.usage.normal_score, \")\")\n",
    "                        if norm.evidence is not None:\n",
    "                            for evi_entry in norm.evidence:\n",
    "                                print(\"         Evidence: \", evi_entry.covered_text)\n",
    "                    elif norm.usage.abnormal_score > 0.7:\n",
    "                        print(\"    ** Abnormal (confidence score\", norm.usage.abnormal_score, \")\")\n",
    "                        if norm.evidence is not None:\n",
    "                            for evi_entry in norm.evidence:\n",
    "                                print(\"         Evidence: \", evi_entry.covered_text)\n",
    "            print(\"\")\n",
    "    print(\"-------------------------------------------------\")\n",
    "    print(\"Patient Symptoms and Diseases\")\n",
    "    if result.symptom_disease_ind is not None:\n",
    "        for item in result.symptom_disease_ind:\n",
    "            print(\"..\",item.symptom_disease_normalized_name, \"(\", item.covered_text, \")\")\n",
    "            print(\"    Notes:\")\n",
    "            if item.snomed_concept_id is not None:\n",
    "                print(\"      - SNOMED\", item.snomed_concept_id)\n",
    "            if item.icd10_code is not None:\n",
    "                print(\"      - ICD10\", item.icd10_code)\n",
    "            if item.icd9_code is not None:\n",
    "                print(\"      - ICD9\", item.icd9_code)\n",
    "            if item.insight_model_data is not None:\n",
    "                if item.insight_model_data.diagnosis is not None:\n",
    "                    diag = item.insight_model_data.diagnosis\n",
    "                    if diag.usage is not None:\n",
    "                        if diag.usage.explicit_score > 0.7:\n",
    "                            print(\"    - Applies to patient (confidence score\", diag.usage.explicit_score, \")\")\n",
    "                        elif diag.usage.patient_reported_score > 0.7:\n",
    "                            print(\"    - Patient reported (confidence score\", diag.usage.patient_reported_score, \")\")\n",
    "                        elif diag.usage.discussed_score > 0.7:\n",
    "                            print(\"    - Other (confidence score\", diag.usage.discussed_score, \")\")\n",
    "            print(\"\")\n",
    "\n",
    "except wh.ACDException as ex:\n",
    "    print (\"Error Occurred:  Code: \", ex.code, \" Message: \", ex.message, \" CorrelationId: \", ex.correlation_id, \" Additional Error Details: \",  ex.err_description)"
   ]
  }
 ],
 "metadata": {
  "kernelspec": {
   "display_name": "Python 3",
   "language": "python",
   "name": "python3"
  },
  "language_info": {
   "codemirror_mode": {
    "name": "ipython",
    "version": 3
   },
   "file_extension": ".py",
   "mimetype": "text/x-python",
   "name": "python",
   "nbconvert_exporter": "python",
   "pygments_lexer": "ipython3",
   "version": "3.8.5"
  }
 },
 "nbformat": 4,
 "nbformat_minor": 2
}
