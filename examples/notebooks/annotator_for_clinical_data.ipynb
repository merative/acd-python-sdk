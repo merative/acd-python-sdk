{
 "cells": [
  {
   "attachments": {},
   "cell_type": "markdown",
   "metadata": {},
   "source": [
    "# Annotator for Clinical Data Python SDK API Example\n",
    "\n",
    "### Intro\n",
    "This is a short ACD sample application that demonstrates how to create a client to communicate with ACD using bearer token authentication and invoke ACD using various APIs.\n",
    "\n",
    "### API Index:\n",
    "\n",
    "* [Analyze](#analyze)\n",
    "* [Profiles](#profiles)\n",
    "* [Annotator Flows](#flows)\n",
    "* [Annotators](#annotators)\n",
    "* [Cartridges](#cartridges)\n",
    "* [Health Check](#health_check)\n",
    "* [User Data](#user_data)\n",
    "\n",
    "## Setup"
   ]
  },
  {
   "cell_type": "code",
   "execution_count": null,
   "metadata": {},
   "outputs": [],
   "source": [
    "# Run variables\n",
    "BEARER_TOKEN = \"<Your ACD service instance bearer token>\" # DO NOT COMMIT THE BEARER_TOKEN\n",
    "VERSION = \"<ACD API version YYYY_MM_DD, e.g. 2023-02-22\"\n",
    "URL = \"<Your ACD service instance URL>\"\n",
    "# The next 3 parameters are for the Cartridge Deployment APIs\n",
    "CARTRIDGE_ZIP = \"<Your cartridge zip filename including path>\"\n",
    "CARTRIDGE_ID = \"<Cartridge ID deployed on your ACD service instance>\"\n",
    "CARTRIDGES_CONTENT_TYPE = \"application/octet-stream\" # SELECT ONE CONTENT TYPE\n",
    "#CARTRIDGES_CONTENT_TYPE = \"multipart/form-data\"\n",
    "# Used with the Flow APIs\n",
    "FLOW = \"<Flow ID persisted on your ACD service instance>\"\n",
    "#Used with the Profile APIs\n",
    "PROFILE = \"<Profile ID persisted on your ACD service instance>\""
   ]
  },
  {
   "cell_type": "code",
   "execution_count": null,
   "metadata": {},
   "outputs": [],
   "source": [
    "from acd_sdk import annotator_for_clinical_data as acd\n",
    "from ibm_cloud_sdk_core.authenticators import BearerTokenAuthenticator\n",
    "import time\n",
    "\n",
    "# Create ACD client using bearer token authentication\n",
    "service = acd.AnnotatorForClinicalDataV1(\n",
    "     authenticator=BearerTokenAuthenticator(bearer_token=BEARER_TOKEN),\n",
    "     version=VERSION\n",
    "     )\n",
    "service.set_service_url(URL)\n"
   ]
  },
  {
   "cell_type": "markdown",
   "metadata": {},
   "source": [
    "---\n",
    "<a id='analyze'></a>\n",
    "\n",
    "# Analyze APIs\n",
    "\n",
    "### Analyze with dynamic annotator flow\n",
    "Annotator flow is defined within the request body - requires json content-type\n"
   ]
  },
  {
   "cell_type": "code",
   "execution_count": null,
   "metadata": {},
   "outputs": [],
   "source": [
    "# POST /analyze\n",
    "\n",
    "text = \"Patient has lung cancer, but did not smoke. She may consider chemotherapy as part of a treatment plan.\"\n",
    "\n",
    "try:\n",
    "    anno_cd = acd.Annotator(name=\"concept_detection\", parameters = {\"include_optional_fields\": [\"medical_codes\", \"source_vocabularies\"]})\n",
    "    anno_neg = acd.Annotator(name=\"negation\")\n",
    "    flow_arr = [\n",
    "        acd.FlowEntry(annotator=anno_cd),\n",
    "        acd.FlowEntry(annotator=anno_neg)\n",
    "    ]\n",
    "\n",
    "    flow = acd.Flow(elements=flow_arr, async_=False)\n",
    "    \n",
    "    resp = service.analyze(text, flow)\n",
    "    concepts = resp.concepts\n",
    "    \n",
    "    for concept in concepts:\n",
    "        print(\"Type: \", concept.type, \"~ Name: \", concept.preferred_name)\n",
    "    \n",
    "except acd.ACDException as ex:\n",
    "   print (\"Error Occurred:  Code \", ex.code, \" Message \", ex.message, \" CorrelationId \", ex.correlation_id)"
   ]
  },
  {
   "cell_type": "markdown",
   "metadata": {},
   "source": [
    "### Analyze with persisted or out-of-the-box annotator flows\n",
    "\n",
    "Request body may contain text/plain content-type when referencing a persisted flow in the analyze request"
   ]
  },
  {
   "cell_type": "code",
   "execution_count": null,
   "metadata": {},
   "outputs": [],
   "source": [
    "# POST /analyze/{flow_id}\n",
    "\n",
    "flowId = FLOW\n",
    "text = \"Patient has lung cancer, but did not smoke. CT scan shows tumor in left lung. She may consider chemotherapy as part of a treatment plan.\"\n",
    "\n",
    "try:\n",
    "    response = service.analyze_with_flow(flowId, text)\n",
    "    concepts = response.concepts\n",
    "    print (\"Concepts:\")\n",
    "    for concept in concepts:\n",
    "        print(\"  Type: \", concept.type, \"- Name: \", concept.preferred_name)\n",
    "    attribute_values = response.attribute_values\n",
    "    print (\"Attributes:\")\n",
    "    for attribute_value in attribute_values:\n",
    "        print(\"  Name: \", attribute_value.preferred_name, \" ( Covered Text: \", attribute_value.covered_text, \")\")\n",
    "        if attribute_value.insight_model_data.diagnosis is not None:\n",
    "            diag = attribute_value.insight_model_data.diagnosis\n",
    "            print(\"    Diagnostic Scores:\")\n",
    "            if diag.usage is not None:\n",
    "                diag_usage = diag.usage\n",
    "                print(\"    - Explicit = \", diag_usage.explicit_score)\n",
    "                print(\"    - Patient Reported = \", diag_usage.patient_reported_score)\n",
    "                print(\"    - Discussed = \", diag_usage.discussed_score)\n",
    "            print(\"    - Suspected = \", diag.suspected_score)\n",
    "            print(\"    - Symptom = \", diag.symptom_score)\n",
    "            print(\"    - Trauma = \", diag.trauma_score)\n",
    "            print(\"    - Family History = \", diag.family_history_score)\n",
    "        if attribute_value.insight_model_data.procedure is not None:\n",
    "            proc = attribute_value.insight_model_data.procedure\n",
    "            print(\"    Procedure Scores:\")\n",
    "            if proc.usage is not None:\n",
    "                proc_usage = proc.usage\n",
    "                print(\"    - Explicit = \", proc_usage.explicit_score)\n",
    "                print(\"    - Pending = \", proc_usage.pending_score)\n",
    "                print(\"    - Discussed = \", proc_usage.discussed_score)\n",
    "            if proc.task is not None:\n",
    "                proc_task = proc.task\n",
    "                print(\"    - Therapeutic = \", proc_task.therapeutic_score)\n",
    "                print(\"    - Diagnostic = \", proc_task.diagnostic_score)\n",
    "            if proc.type is not None:\n",
    "                proc_type = proc.type\n",
    "                print(\"    - Procedure = \", proc_type.procedure_score)\n",
    "                print(\"    - Device = \", proc_type.device_score)\n",
    "        if attribute_value.insight_model_data.normality is not None:\n",
    "            norm = attribute_value.insight_model_data.normality\n",
    "            print(\"    Normality Scores:\")\n",
    "            if norm.usage is not None:\n",
    "                norm_usage = norm.usage\n",
    "                print(\"    - Normal = \", norm_usage.normal_score)\n",
    "                print(\"    - Abnormal = \", norm_usage.abnormal_score)\n",
    "                print(\"    - Unknown = \", norm_usage.unknown_score)\n",
    "                print(\"    - NonFinding = \", norm_usage.non_finding_score)\n",
    "            if norm.evidence is not None:\n",
    "                for evi_entry in norm.evidence:\n",
    "                    print(\"    - Evidence:\")\n",
    "                    print(\"         Begin = \", evi_entry.begin)\n",
    "                    print(\"         End = \", evi_entry.end)\n",
    "                    print(\"         Covered Text = \", evi_entry.covered_text)\n",
    "        \n",
    "except acd.ACDException as ex:\n",
    "   print (\"Error Occurred:  Code \", ex.code, \" Message \", ex.message, \" CorrelationId \", ex.correlation_id)"
   ]
  },
  {
   "attachments": {},
   "cell_type": "markdown",
   "metadata": {},
   "source": [
    "---\n",
    "<a id='profiles'></a>\n",
    "\n",
    "# Profile APIs\n",
    "\n",
    "### Get profiles\n"
   ]
  },
  {
   "cell_type": "code",
   "execution_count": null,
   "metadata": {},
   "outputs": [],
   "source": [
    "# GET /profiles\n",
    "\n",
    "try:\n",
    "   resp = service.get_profiles()\n",
    "   rslt = resp.result\n",
    "\n",
    "   for id, profile in rslt.items():\n",
    "       print(\"Profile:\",id)\n",
    "\n",
    "except acd.ACDException as ex:\n",
    "   print (\"Error Code:\", ex.code, \" Message:\", ex.message, \" Correlation Id:\", ex.correlation_id)"
   ]
  },
  {
   "attachments": {},
   "cell_type": "markdown",
   "metadata": {},
   "source": [
    "### Get profile\n"
   ]
  },
  {
   "cell_type": "code",
   "execution_count": null,
   "metadata": {},
   "outputs": [],
   "source": [
    "# GET /profiles/{id}\n",
    "try:\n",
    "    resp = service.get_profile(PROFILE)\n",
    "    rslt = resp.result\n",
    "    print(\"Id:\", rslt['id'])\n",
    "    print(\"Name:\", rslt['name'])\n",
    "    print(\"Description:\", rslt['description'])\n",
    "    \n",
    "except acd.ACDException as ex:\n",
    "   print (\"Error Code:\", ex.code, \" Message:\", ex.message, \" Correlation Id:\", ex.correlation_id)"
   ]
  },
  {
   "attachments": {},
   "cell_type": "markdown",
   "metadata": {},
   "source": [
    "### Create (or persist) profile with \"my_profile\" profile ID\n"
   ]
  },
  {
   "cell_type": "code",
   "execution_count": null,
   "metadata": {},
   "outputs": [],
   "source": [
    "# POST /profiles\n",
    "\n",
    "try:\n",
    "    prof_anno = acd.Annotator(\n",
    "        name=\"concept_detection\",\n",
    "        parameters = {\"libraries\": [\"umls.latest\"]})\n",
    "    \n",
    "    prof_anno_arr = [ prof_anno ]\n",
    "    \n",
    "    resp = service.create_profile (\n",
    "        new_id=\"my_profile\",\n",
    "        new_name=\"my profile\",\n",
    "        new_description=\"my profile description\",\n",
    "        new_annotators=prof_anno_arr)\n",
    "    \n",
    "    print(\"Response Code:\",resp.status_code)\n",
    "    \n",
    "except acd.ACDException as ex:\n",
    "   print (\"Error Code:\", ex.code, \" Message:\", ex.message, \" Correlation Id:\", ex.correlation_id)"
   ]
  },
  {
   "attachments": {},
   "cell_type": "markdown",
   "metadata": {},
   "source": [
    "### Update profile with \"my_profile\" profile ID\n"
   ]
  },
  {
   "cell_type": "code",
   "execution_count": null,
   "metadata": {},
   "outputs": [],
   "source": [
    "# PUT /profiles/{id}\n",
    "\n",
    "try:\n",
    "\n",
    "    anno_cd = acd.Annotator(\"concept_detection\", parameters = {\"libraries\": [\"umls.latest\"]})\n",
    "    anno_attr = acd.Annotator(\"attribute_detection\")\n",
    "    \n",
    "    prof_annos = [ anno_cd, anno_attr ]\n",
    "    \n",
    "    resp = service.update_profile(\n",
    "        \"my_profile\",\n",
    "        new_id=\"my_profile\",\n",
    "        new_name=\"my profile\",\n",
    "        new_description=\"my profile description - UPDATE\",\n",
    "        new_annotators=prof_annos)\n",
    "    \n",
    "    print(\"Response Code:\",resp.status_code)\n",
    "    \n",
    "except acd.ACDException as ex:\n",
    "   print (\"Error Code:\", ex.code, \" Message:\", ex.message, \" Correlation Id:\", ex.correlation_id)"
   ]
  },
  {
   "attachments": {},
   "cell_type": "markdown",
   "metadata": {},
   "source": [
    "### Delete profile with \"my_profile\" profile ID\n"
   ]
  },
  {
   "cell_type": "code",
   "execution_count": null,
   "metadata": {},
   "outputs": [],
   "source": [
    "# DELETE /profiles/{id}\n",
    "\n",
    "try:\n",
    "    \n",
    "    resp = service.delete_profile(\"my_profile\")\n",
    "    print(\"Response Code:\",resp.status_code)\n",
    "    \n",
    "except acd.ACDException as ex:\n",
    "   print (\"Error Code:\", ex.code, \" Message:\", ex.message, \" Correlation Id:\", ex.correlation_id)"
   ]
  },
  {
   "attachments": {},
   "cell_type": "markdown",
   "metadata": {},
   "source": [
    "---\n",
    "<a id='flows'></a>\n",
    "\n",
    "# Flow APIs\n",
    "\n",
    "### Get flows\n"
   ]
  },
  {
   "cell_type": "code",
   "execution_count": null,
   "metadata": {},
   "outputs": [],
   "source": [
    "# GET /flows\n",
    "\n",
    "try:\n",
    "    resp = service.get_flows()\n",
    "    rslt = resp.result\n",
    "    for flow in rslt:\n",
    "        print(\"Flow ID:\",flow)\n",
    "        \n",
    "except acd.ACDException as ex:\n",
    "    print (\"Error Code:\", ex.code, \" Message:\", ex.message, \" Correlation Id:\", ex.correlation_id)"
   ]
  },
  {
   "attachments": {},
   "cell_type": "markdown",
   "metadata": {},
   "source": [
    "### Get flow\n"
   ]
  },
  {
   "cell_type": "code",
   "execution_count": null,
   "metadata": {},
   "outputs": [],
   "source": [
    "# GET /flows/{id}\n",
    "\n",
    "try:\n",
    "    resp = service.get_flows_by_id(FLOW)\n",
    "    rslt = resp.result\n",
    "    print(\"Id:\", rslt['id'])\n",
    "    print(\"Name:\", rslt['name'])\n",
    "    print(\"Desc:\", rslt['description'])\n",
    "    \n",
    "    for anno_flow in rslt['annotatorFlows']:\n",
    "        flow = anno_flow['flow']\n",
    "        flow_entries = flow['elements']\n",
    "        for flow_entry in flow_entries:\n",
    "            print(\"Annotator: \", flow_entry['annotator']['name'])\n",
    "            \n",
    "except acd.ACDException as ex:\n",
    "    print (\"Error Code:\", ex.code, \" Message:\", ex.message, \" Correlation Id:\", ex.correlation_id)"
   ]
  },
  {
   "attachments": {},
   "cell_type": "markdown",
   "metadata": {},
   "source": [
    "### Create (or persist) flow with \"my_flow\" flow ID\n"
   ]
  },
  {
   "cell_type": "code",
   "execution_count": null,
   "metadata": {},
   "outputs": [],
   "source": [
    "# POST /flows\n",
    "\n",
    "try:\n",
    "    anno_cd = acd.Annotator(\"concept_detection\")\n",
    "    anno_neg = acd.Annotator(\"negation\")\n",
    "    flow_entry_cd = acd.FlowEntry(annotator=anno_cd)\n",
    "    flow_entry_neg = acd.FlowEntry(annotator=anno_neg)\n",
    "    flow_entries = [ flow_entry_cd, flow_entry_neg ]\n",
    "    flow = acd.Flow(elements=flow_entries, async_=False)\n",
    "    anno_flow = acd.AnnotatorFlow(flow=flow)\n",
    "    anno_flows = [anno_flow]\n",
    "    resp = service.create_flows(\n",
    "        new_id=\"my_flow\",\n",
    "        new_name=\"my flow\",\n",
    "        new_description=\"my flow description\",\n",
    "        new_annotator_flows=anno_flows)\n",
    "    print(\"Response Code:\",resp.status_code)\n",
    "    print(resp.result)\n",
    "    \n",
    "except acd.ACDException as ex:\n",
    "   print (\"Error Code:\", ex.code, \" Message:\", ex.message, \" Correlation Id:\", ex.correlation_id)"
   ]
  },
  {
   "attachments": {},
   "cell_type": "markdown",
   "metadata": {},
   "source": [
    "### Update flow with \"my_flow\" flow ID\n"
   ]
  },
  {
   "cell_type": "code",
   "execution_count": null,
   "metadata": {},
   "outputs": [],
   "source": [
    "# PUT /flows/{id}\n",
    "\n",
    "try:\n",
    "    \n",
    "    anno_med = acd.Annotator(name=\"medication\")\n",
    "    anno_neg = acd.Annotator(name=\"negation\")\n",
    "    flow_entry_med = acd.FlowEntry(annotator=anno_med)\n",
    "    flow_entry_neg = acd.FlowEntry(annotator=anno_neg)\n",
    "    flow_entries = [ flow_entry_med, flow_entry_neg ]\n",
    "    flow = acd.Flow(elements=flow_entries, async_=False)\n",
    "    anno_flow = acd.AnnotatorFlow(flow=flow)\n",
    "    anno_flows = [anno_flow]\n",
    "    \n",
    "    service.update_flows(\n",
    "        \"my_flow\",\n",
    "        new_id=\"my_flow\",\n",
    "        new_name=\"my flow name\",\n",
    "        new_description=\"my flow name - UPDATE\",\n",
    "        new_annotator_flows=anno_flows)\n",
    "    print(\"Response Code:\",resp.status_code)\n",
    "    \n",
    "except acd.ACDException as ex:\n",
    "    print (\"Error Code: \", ex.code, \" Message: \", ex.message, \" Correlation Id: \", ex.correlation_id)"
   ]
  },
  {
   "attachments": {},
   "cell_type": "markdown",
   "metadata": {},
   "source": [
    "### Delete flow with \"my_flow\" flow ID\n"
   ]
  },
  {
   "cell_type": "code",
   "execution_count": null,
   "metadata": {},
   "outputs": [],
   "source": [
    "# DELETE /flows/{id}\n",
    "\n",
    "try:\n",
    "    resp = service.delete_flows(\"my_flow\")\n",
    "    print(\"Response Code:\",resp.status_code)\n",
    "    \n",
    "except acd.ACDException as ex:\n",
    "    print (\"Error Code: \", ex.code, \" Message: \", ex.message, \" Correlation Id: \", ex.correlation_id)"
   ]
  },
  {
   "attachments": {},
   "cell_type": "markdown",
   "metadata": {},
   "source": [
    "---\n",
    "<a id='annotators'></a>\n",
    "\n",
    "# Annotator APIs\n",
    "\n",
    "### Get list of annotators\n"
   ]
  },
  {
   "cell_type": "code",
   "execution_count": null,
   "metadata": {},
   "outputs": [],
   "source": [
    "# GET /annotators\n",
    "\n",
    "try:\n",
    "    \n",
    "    resp = service.get_annotators()\n",
    "    rslt = resp.result\n",
    "    for annotator in rslt:\n",
    "        print(annotator)\n",
    "    \n",
    "except acd.ACDException as ex:\n",
    "    print (\"Error Code: \", ex.code, \" Message: \", ex.message, \" Correlation Id: \", ex.correlation_id)"
   ]
  },
  {
   "attachments": {},
   "cell_type": "markdown",
   "metadata": {},
   "source": [
    "### Get annotator\n"
   ]
  },
  {
   "cell_type": "code",
   "execution_count": null,
   "metadata": {},
   "outputs": [],
   "source": [
    "# GET /annotators/{id}\n",
    "\n",
    "try:\n",
    "    \n",
    "    resp = service.get_annotators_by_id(\"concept_detection\")\n",
    "    rslt = resp.result\n",
    "    print(\"Description:\",rslt['description'])\n",
    "    \n",
    "except acd.ACDException as ex:\n",
    "    print (\"Error Code: \", ex.code, \" Message: \", ex.message, \" Correlation Id: \", ex.correlation_id)"
   ]
  },
  {
   "attachments": {},
   "cell_type": "markdown",
   "metadata": {},
   "source": [
    "---\n",
    "<a id='health_check'></a>\n",
    "\n",
    "# Health Check Status API"
   ]
  },
  {
   "cell_type": "code",
   "execution_count": null,
   "metadata": {},
   "outputs": [],
   "source": [
    "# GET /status/health_check\n",
    "\n",
    "try:\n",
    "    resp = service.get_health_check_status()\n",
    "    print(\"Response Code:\",resp.status_code)\n",
    "    \n",
    "except acd.ACDException as ex:\n",
    "    print (\"Error Code: \", ex.code, \" Message: \", ex.message, \" Correlation Id: \", ex.correlation_id)"
   ]
  },
  {
   "attachments": {},
   "cell_type": "markdown",
   "metadata": {},
   "source": [
    "----\n",
    "<a id='cartridges'></a>\n",
    "\n",
    "# Cartridge Deployment APIs\n",
    "\n",
    "### Deploy new cartridge using cartridge zip file"
   ]
  },
  {
   "cell_type": "code",
   "execution_count": null,
   "metadata": {},
   "outputs": [],
   "source": [
    "# POST /cartridges\n",
    "try:\n",
    "    f = open(CARTRIDGE_ZIP, \"rb\")\n",
    "    # \"multipart/form-data\" is also supported for archive_file_content_type\n",
    "    resp = service.cartridges_post_multipart(archive_file=f, archive_file_content_type=CARTRIDGES_CONTENT_TYPE)\n",
    "    print(resp.status_code)\n",
    "    time.sleep(5) # wait for async cartridge deploy completion\n",
    "    \n",
    "except acd.ACDException as ex:\n",
    "    print (\"Error Code: \", ex.code, \" Message: \", ex.message, \" Correlation Id: \", ex.correlation_id)"
   ]
  },
  {
   "attachments": {},
   "cell_type": "markdown",
   "metadata": {},
   "source": [
    "### Get list of deployed cartridges"
   ]
  },
  {
   "cell_type": "code",
   "execution_count": null,
   "metadata": {},
   "outputs": [],
   "source": [
    "# GET /cartridges\n",
    "try:\n",
    "    resp = service.cartridges_get()\n",
    "    rslt = resp.result\n",
    "    for cartridge in rslt['cartridges']:\n",
    "        print(cartridge['id'])\n",
    "        print(\"status: \",cartridge['status'])\n",
    "        print(\"\\n\")\n",
    "    \n",
    "except acd.ACDException as ex:\n",
    "    print (\"Error Code: \", ex.code, \" Message: \", ex.message, \" Correlation Id: \", ex.correlation_id)"
   ]
  },
  {
   "attachments": {},
   "cell_type": "markdown",
   "metadata": {},
   "source": [
    "### Get status of deployed cartridge"
   ]
  },
  {
   "cell_type": "code",
   "execution_count": null,
   "metadata": {},
   "outputs": [],
   "source": [
    "#  GET /cartridges/{id}\n",
    "try:\n",
    "    resp = service.cartridges_get_id(CARTRIDGE_ID)\n",
    "    rslt = resp.result\n",
    "    print(\"id: \", rslt['id'])\n",
    "    print(\"status: \", rslt['status'])\n",
    "    \n",
    "except acd.ACDException as ex:\n",
    "    print (\"Error Code: \", ex.code, \" Message: \", ex.message, \" Correlation Id: \", ex.correlation_id)"
   ]
  },
  {
   "attachments": {},
   "cell_type": "markdown",
   "metadata": {},
   "source": [
    "### Redeploy a cartridge"
   ]
  },
  {
   "cell_type": "code",
   "execution_count": null,
   "metadata": {},
   "outputs": [],
   "source": [
    "#  PUT /cartridges\n",
    "\n",
    "try:\n",
    "    f = open(CARTRIDGE_ZIP, \"rb\")\n",
    "    # \"multipart/form-data\" is also supported for archive_file_content_type\n",
    "    resp = service.cartridges_put_multipart(archive_file=f, archive_file_content_type=CARTRIDGES_CONTENT_TYPE)\n",
    "    print(resp.status_code)\n",
    "    time.sleep(5) # wait for async cartridge deploy completion\n",
    "    \n",
    "except acd.ACDException as ex:\n",
    "    print (\"Error Code: \", ex.code, \" Message: \", ex.message, \" Correlation Id: \", ex.correlation_id)"
   ]
  },
  {
   "attachments": {},
   "cell_type": "markdown",
   "metadata": {},
   "source": [
    "---\n",
    "<a id='user_data'></a>\n",
    "\n",
    "# Delete User Data API"
   ]
  },
  {
   "cell_type": "code",
   "execution_count": null,
   "metadata": {},
   "outputs": [],
   "source": [
    "# Delete tenant specific artifacts\n",
    "try:\n",
    "    resp = service.delete_user_specific_artifacts()\n",
    "    print(\"Response Code:\",resp.status_code)\n",
    "    \n",
    "except acd.ACDException as ex:\n",
    "    print (\"Error Code: \", ex.code, \" Message: \", ex.message, \" Correlation Id: \", ex.correlation_id)"
   ]
  }
 ],
 "metadata": {
  "kernelspec": {
   "display_name": "Python 3",
   "language": "python",
   "name": "python3"
  },
  "language_info": {
   "codemirror_mode": {
    "name": "ipython",
    "version": 3
   },
   "file_extension": ".py",
   "mimetype": "text/x-python",
   "name": "python",
   "nbconvert_exporter": "python",
   "pygments_lexer": "ipython3",
   "version": "3.8.5"
  }
 },
 "nbformat": 4,
 "nbformat_minor": 4
}
